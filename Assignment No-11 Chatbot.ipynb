{
 "cells": [
  {
   "cell_type": "code",
   "execution_count": null,
   "id": "d79548e9",
   "metadata": {},
   "outputs": [
    {
     "name": "stdout",
     "output_type": "stream",
     "text": [
      "Chatbot: Hello! How can I assist you today?\n",
      "User: hi\n",
      "Chatbot: Hi there!\n",
      "User: help\n",
      "Chatbot: I can assist you with product information, order status, and general inquiries. What do you need help with?\n",
      "User: product information\n",
      "Chatbot: Sure! Could you please provide me with the product details you're looking for?\n",
      "User: order status\n",
      "Chatbot: Sure! May I have your order number, please?\n",
      "User: bye\n"
     ]
    }
   ],
   "source": [
    "def greet():\n",
    "    print(\"Chatbot: Hello! How can I assist you today?\")\n",
    "\n",
    "def process_input(user_input):\n",
    "    if user_input.lower() == \"hello\" or user_input.lower() == \"hi\":\n",
    "        print(\"Chatbot: Hi there!\")\n",
    "    elif user_input.lower() == \"help\":\n",
    "        print(\"Chatbot: I can assist you with product information, order status, and general inquiries. What do you need help with?\")\n",
    "    elif user_input.lower() == \"product information\":\n",
    "        print(\"Chatbot: Sure! Could you please provide me with the product details you're looking for?\")\n",
    "    elif user_input.lower() == \"order status\":\n",
    "        print(\"Chatbot: Sure! May I have your order number, please?\")\n",
    "    elif user_input.lower() == \"thank you\":\n",
    "        print(\"Chatbot: You're welcome! If you need any further assistance, feel free to ask.\")\n",
    "    else:\n",
    "        print(\"Chatbot: I'm sorry, I couldn't understand. Could you please rephrase or ask something else?\")\n",
    "\n",
    "def chat():\n",
    "    greet()\n",
    "    while True:\n",
    "        user_input = input(\"User: \")\n",
    "        if user_input.lower() == \"bye\":\n",
    "            print(\"Chatbot: Goodbye! Have a great day!\")\n",
    "            break\n",
    "        process_input(user_input)\n",
    "\n",
    "# Start the chatbot\n",
    "chat()\n"
   ]
  },
  {
   "cell_type": "code",
   "execution_count": null,
   "id": "92d60d61",
   "metadata": {},
   "outputs": [
    {
     "name": "stdout",
     "output_type": "stream",
     "text": [
      "Chatbot: Hi, how can I help you today?\n",
      ">hi\n",
      "Hey there!\n",
      ">how are you\n",
      "I'm good, thank you! How about you?\n",
      ">sorry\n",
      "I'm sorry, but I can't assist with that. Could you please provide more information?\n"
     ]
    }
   ],
   "source": [
    "import nltk\n",
    "from nltk.chat.util import Chat, reflections\n",
    "\n",
    "# Define chatbot responses\n",
    "pairs = [\n",
    "    [\n",
    "        r\"my name is (.*)\",\n",
    "        [\"Hello %1! How can I assist you today?\",]\n",
    "    ],\n",
    "    [\n",
    "        r\"hi|hello|hey\",\n",
    "        [\"Hello!\", \"Hey there!\",]\n",
    "    ],\n",
    "    [\n",
    "        r\"how are you ?\",\n",
    "        [\"I'm good, thank you! How about you?\",]\n",
    "    ],\n",
    "    [\n",
    "        r\"sorry (.*)\",\n",
    "        [\"No problem.\", \"It's alright.\",]\n",
    "    ],\n",
    "    [\n",
    "        r\"quit\",\n",
    "        [\"Goodbye! Take care.\", \"Nice chatting with you. Goodbye!\"]\n",
    "    ],\n",
    "    [\n",
    "        r\"(.*)\",\n",
    "        [\"I'm sorry, but I can't assist with that. Could you please provide more information?\",]\n",
    "    ]\n",
    "]\n",
    "\n",
    "def chat():\n",
    "    print(\"Chatbot: Hi, how can I help you today?\")\n",
    "    chatbot = Chat(pairs, reflections)\n",
    "    chatbot.converse()\n",
    "\n",
    "# Initialize NLTK's chatbot\n",
    "nltk.chat.util.Chat.default_reflections = reflections\n",
    "chat()\n",
    "\n"
   ]
  },
  {
   "cell_type": "code",
   "execution_count": null,
   "id": "3d797413",
   "metadata": {},
   "outputs": [],
   "source": []
  }
 ],
 "metadata": {
  "kernelspec": {
   "display_name": "Python 3 (ipykernel)",
   "language": "python",
   "name": "python3"
  },
  "language_info": {
   "codemirror_mode": {
    "name": "ipython",
    "version": 3
   },
   "file_extension": ".py",
   "mimetype": "text/x-python",
   "name": "python",
   "nbconvert_exporter": "python",
   "pygments_lexer": "ipython3",
   "version": "3.10.9"
  }
 },
 "nbformat": 4,
 "nbformat_minor": 5
}
