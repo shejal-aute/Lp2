{
 "cells": [
  {
   "cell_type": "code",
   "execution_count": 1,
   "id": "da6285e0",
   "metadata": {},
   "outputs": [
    {
     "name": "stdout",
     "output_type": "stream",
     "text": [
      "Enter the number of vertices: 5\n",
      "Enter the number of edges: 5\n",
      "Enter the edges and their weights:\n",
      "0 1 6\n",
      "2 4 3\n",
      "3 1 6\n",
      "1 2 5\n",
      "1 0 6\n",
      "Edges in the constructed MST\n",
      "2 -- 4 == 3\n",
      "1 -- 2 == 5\n",
      "0 -- 1 == 6\n",
      "3 -- 1 == 6\n",
      "Minimum Spanning Tree 20\n"
     ]
    }
   ],
   "source": [
    "class Graph:\n",
    " \n",
    "    def __init__(self, vertices):\n",
    "        self.V = vertices\n",
    "        self.graph = []\n",
    " \n",
    "    def addEdge(self, u, v, w):\n",
    "        self.graph.append([u, v, w])\n",
    " \n",
    "    def find(self, parent, i):\n",
    "        if parent[i] != i:\n",
    "            parent[i] = self.find(parent, parent[i])\n",
    "        return parent[i]\n",
    " \n",
    "    def union(self, parent, rank, x, y):\n",
    "        if rank[x] < rank[y]:\n",
    "            parent[x] = y\n",
    "        elif rank[x] > rank[y]:\n",
    "            parent[y] = x\n",
    "        else:\n",
    "            parent[y] = x\n",
    "            rank[x] += 1\n",
    " \n",
    "    def KruskalMST(self):\n",
    "        result = []\n",
    "        i = 0\n",
    "        e = 0\n",
    "        self.graph = sorted(self.graph, key=lambda item: item[2])\n",
    "        parent = []\n",
    "        rank = []\n",
    " \n",
    "        for node in range(self.V):\n",
    "            parent.append(node)\n",
    "            rank.append(0)\n",
    " \n",
    "        while e < self.V - 1:\n",
    "            u, v, w = self.graph[i]\n",
    "            i = i + 1\n",
    "            x = self.find(parent, u)\n",
    "            y = self.find(parent, v)\n",
    " \n",
    "            if x != y:\n",
    "                e = e + 1\n",
    "                result.append([u, v, w])\n",
    "                self.union(parent, rank, x, y)\n",
    "    \n",
    "        minimumCost = 0\n",
    "        print(\"Edges in the constructed MST\")\n",
    "        for u, v, weight in result:\n",
    "            minimumCost += weight\n",
    "            print(\"%d -- %d == %d\" % (u, v, weight))\n",
    "        print(\"Minimum Spanning Tree\", minimumCost)\n",
    " \n",
    " \n",
    "if __name__ == '__main__':\n",
    "    vertices = int(input(\"Enter the number of vertices: \"))\n",
    "    g = Graph(vertices)\n",
    "    edges = int(input(\"Enter the number of edges: \"))\n",
    "    print(\"Enter the edges and their weights:\")\n",
    "    for i in range(edges):\n",
    "        u, v, w = map(int, input().split())\n",
    "        g.addEdge(u, v, w)\n",
    "    g.KruskalMST()"
   ]
  },
  {
   "cell_type": "code",
   "execution_count": null,
   "id": "c21ce6a5",
   "metadata": {},
   "outputs": [],
   "source": []
  }
 ],
 "metadata": {
  "kernelspec": {
   "display_name": "Python 3 (ipykernel)",
   "language": "python",
   "name": "python3"
  },
  "language_info": {
   "codemirror_mode": {
    "name": "ipython",
    "version": 3
   },
   "file_extension": ".py",
   "mimetype": "text/x-python",
   "name": "python",
   "nbconvert_exporter": "python",
   "pygments_lexer": "ipython3",
   "version": "3.9.13"
  }
 },
 "nbformat": 4,
 "nbformat_minor": 5
}
