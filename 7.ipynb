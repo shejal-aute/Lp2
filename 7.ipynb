{
 "cells": [
  {
   "cell_type": "code",
   "execution_count": 2,
   "id": "83df1a50",
   "metadata": {},
   "outputs": [
    {
     "name": "stdout",
     "output_type": "stream",
     "text": [
      "Enter the number of vertices: 5\n",
      "Enter the graph matrix:\n",
      "0 2 4 1 0\n",
      "0 0 0 3 2\n",
      "2 6 7 0 8\n",
      "2 8 3 5 1\n",
      "1 0 0 0 4\n",
      "Enter the source vertex: 0\n",
      "Edge \tWeight\n",
      "0 - 1 \t 0\n",
      "3 - 2 \t 0\n",
      "0 - 3 \t 2\n",
      "3 - 4 \t 0\n"
     ]
    }
   ],
   "source": [
    "import sys\n",
    "\n",
    "class Graph():\n",
    "    def __init__(self, vertices):\n",
    "        self.V = vertices\n",
    "        self.graph = [[0 for column in range(vertices)]\n",
    "                      for row in range(vertices)]\n",
    "\n",
    "    def printMST(self, parent):\n",
    "        print(\"Edge \\tWeight\")\n",
    "        for i in range(1, self.V):\n",
    "            print(parent[i], \"-\", i, \"\\t\", self.graph[i][parent[i]])\n",
    "\n",
    "    def minKey(self, key, mstSet):\n",
    "        min = sys.maxsize\n",
    "        for v in range(self.V):\n",
    "            if key[v] < min and mstSet[v] == False:\n",
    "                min = key[v]\n",
    "                min_index = v\n",
    "        return min_index\n",
    "\n",
    "    def primMST(self):\n",
    "        key = [sys.maxsize] * self.V\n",
    "        parent = [None] * self.V\n",
    "        key[0] = 0\n",
    "        mstSet = [False] * self.V\n",
    "        parent[0] = -1\n",
    "\n",
    "        for cout in range(self.V):\n",
    "            u = self.minKey(key, mstSet)\n",
    "            mstSet[u] = True\n",
    "            for v in range(self.V):\n",
    "                if self.graph[u][v] > 0 and mstSet[v] == False and key[v] > self.graph[u][v]:\n",
    "                    key[v] = self.graph[u][v]\n",
    "                    parent[v] = u\n",
    "\n",
    "        self.printMST(parent)\n",
    "\n",
    "if __name__ == '__main__':\n",
    "    vertices = int(input(\"Enter the number of vertices: \"))\n",
    "    g = Graph(vertices)\n",
    "    print(\"Enter the graph matrix:\")\n",
    "    for i in range(vertices):\n",
    "        row = list(map(int, input().split()))\n",
    "        for j in range(vertices):\n",
    "            g.graph[i][j] = row[j]\n",
    "    source_vertex = int(input(\"Enter the source vertex: \"))\n",
    "    g.primMST()"
   ]
  },
  {
   "cell_type": "code",
   "execution_count": null,
   "id": "fad6435e",
   "metadata": {},
   "outputs": [],
   "source": []
  }
 ],
 "metadata": {
  "kernelspec": {
   "display_name": "Python 3 (ipykernel)",
   "language": "python",
   "name": "python3"
  },
  "language_info": {
   "codemirror_mode": {
    "name": "ipython",
    "version": 3
   },
   "file_extension": ".py",
   "mimetype": "text/x-python",
   "name": "python",
   "nbconvert_exporter": "python",
   "pygments_lexer": "ipython3",
   "version": "3.9.13"
  }
 },
 "nbformat": 4,
 "nbformat_minor": 5
}
