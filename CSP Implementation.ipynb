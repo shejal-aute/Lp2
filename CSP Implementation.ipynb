{
 "cells": [
  {
   "cell_type": "code",
   "execution_count": 14,
   "id": "b85a8ffe",
   "metadata": {},
   "outputs": [
    {
     "name": "stdout",
     "output_type": "stream",
     "text": [
      "Enter the size of the board : 4\n",
      "0 0 1 0 \n",
      "1 0 0 0 \n",
      "0 0 0 1 \n",
      "0 1 0 0 \n",
      "\n",
      "0 1 0 0 \n",
      "0 0 0 1 \n",
      "1 0 0 0 \n",
      "0 0 1 0 \n",
      "\n",
      "There are a total of 2 possibilities for the given dimensions !\n"
     ]
    }
   ],
   "source": [
    "n=int(input(\"Enter the size of the board : \")) \n",
    "counter=0\n",
    "def reset():\n",
    "    global board\n",
    "    board=[[0]*n for i in range(n)]\n",
    "    if(marker(board, 0)==False and counter==1):\n",
    "        print(\"No feasible solution exists for the given dimensions\")\n",
    "\n",
    "def display(board):\n",
    "    global counter\n",
    "    counter+=1\n",
    "    for i in range(0, n):\n",
    "        for j in range(0, n):\n",
    "            print(board[i][j], end=\" \")\n",
    "        print()\n",
    "    print()\n",
    "\n",
    "def check(board, row, column):\n",
    "    for i in range(0, column):\n",
    "        if(board[row][i]==1):\n",
    "            return False\n",
    "        for i, j in zip(range(row, -1, -1), range(column, -1, -1)):\n",
    "            if(board[i][j]==1):\n",
    "                return False \n",
    "            for i, j in zip(range(row, n), range(column, -1, -1)): \n",
    "                if(board[i][j]==1):\n",
    "                    return False\n",
    "    return True\n",
    "\n",
    "def marker(board, column):\n",
    "    possibility=False \n",
    "    if column==n:\n",
    "        display(board) \n",
    "        return True \n",
    "    for i in range(0, n): \n",
    "        if(check(board, i,column)==True):\n",
    "            board[i][column]=1\n",
    "            possibility=marker(board, column+1)\n",
    "            board[i][column]=0\n",
    "    return possibility\n",
    "\n",
    "reset()\n",
    "print(\"There are a total of \"+str(counter)+\" possibilities for the given dimensions !\")"
   ]
  },
  {
   "cell_type": "code",
   "execution_count": null,
   "id": "644c72e7",
   "metadata": {},
   "outputs": [],
   "source": []
  }
 ],
 "metadata": {
  "kernelspec": {
   "display_name": "Python 3 (ipykernel)",
   "language": "python",
   "name": "python3"
  },
  "language_info": {
   "codemirror_mode": {
    "name": "ipython",
    "version": 3
   },
   "file_extension": ".py",
   "mimetype": "text/x-python",
   "name": "python",
   "nbconvert_exporter": "python",
   "pygments_lexer": "ipython3",
   "version": "3.10.9"
  }
 },
 "nbformat": 4,
 "nbformat_minor": 5
}
