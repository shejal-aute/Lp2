{
 "cells": [
  {
   "cell_type": "code",
   "execution_count": 1,
   "id": "b3facac0",
   "metadata": {},
   "outputs": [
    {
     "name": "stdout",
     "output_type": "stream",
     "text": [
      "Enter the number of vertices: 5\n",
      "Enter the graph matrix:\n",
      "0 2 1 4 5\n",
      "2 3 1 1 0\n",
      "0 0 2 4 5\n",
      "1 0 1 0 7\n",
      "2 5 4 1 0\n",
      "Enter the source vertex: 0\n",
      "Vertex \tDistance from Source\n",
      "0 \t 0\n",
      "1 \t 2\n",
      "2 \t 1\n",
      "3 \t 3\n",
      "4 \t 5\n"
     ]
    }
   ],
   "source": [
    "import sys\n",
    "  \n",
    "class Graph():\n",
    "  \n",
    "    def __init__(self, vertices):\n",
    "        self.V = vertices\n",
    "        self.graph = [[0 for column in range(vertices)]\n",
    "                      for row in range(vertices)]\n",
    "  \n",
    "    def printSolution(self, dist):\n",
    "        print(\"Vertex \\tDistance from Source\")\n",
    "        for node in range(self.V):\n",
    "            print(node, \"\\t\", dist[node])\n",
    "  \n",
    "    def minDistance(self, dist, sptSet):\n",
    "  \n",
    "        min = sys.maxsize\n",
    "  \n",
    "        for u in range(self.V):\n",
    "            if dist[u] < min and sptSet[u] == False:\n",
    "                min = dist[u]\n",
    "                min_index = u\n",
    "  \n",
    "        return min_index\n",
    "  \n",
    "    def dijkstra(self, src):\n",
    "  \n",
    "        dist = [sys.maxsize] * self.V\n",
    "        dist[src] = 0\n",
    "        sptSet = [False] * self.V\n",
    "  \n",
    "        for cout in range(self.V):\n",
    "            x = self.minDistance(dist, sptSet)\n",
    "  \n",
    "            sptSet[x] = True\n",
    "  \n",
    "            for y in range(self.V):\n",
    "                if self.graph[x][y] > 0 and sptSet[y] == False and \\\n",
    "                        dist[y] > dist[x] + self.graph[x][y]:\n",
    "                    dist[y] = dist[x] + self.graph[x][y]\n",
    "  \n",
    "        self.printSolution(dist)\n",
    "  \n",
    "  \n",
    "if __name__ == \"__main__\":\n",
    "    vertices = int(input(\"Enter the number of vertices: \"))\n",
    "    graph = []\n",
    "    print(\"Enter the graph matrix:\")\n",
    "    for i in range(vertices):\n",
    "        row = list(map(int, input().split()))\n",
    "        graph.append(row)\n",
    "\n",
    "    g = Graph(vertices)\n",
    "    g.graph = graph\n",
    "  \n",
    "    src = int(input(\"Enter the source vertex: \"))\n",
    "    g.dijkstra(src)"
   ]
  },
  {
   "cell_type": "code",
   "execution_count": null,
   "id": "11f96102",
   "metadata": {},
   "outputs": [],
   "source": []
  }
 ],
 "metadata": {
  "kernelspec": {
   "display_name": "Python 3 (ipykernel)",
   "language": "python",
   "name": "python3"
  },
  "language_info": {
   "codemirror_mode": {
    "name": "ipython",
    "version": 3
   },
   "file_extension": ".py",
   "mimetype": "text/x-python",
   "name": "python",
   "nbconvert_exporter": "python",
   "pygments_lexer": "ipython3",
   "version": "3.9.13"
  }
 },
 "nbformat": 4,
 "nbformat_minor": 5
}
