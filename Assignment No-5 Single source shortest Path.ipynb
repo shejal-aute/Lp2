{
 "cells": [
  {
   "cell_type": "code",
   "execution_count": null,
   "id": "497b4f7b",
   "metadata": {},
   "outputs": [],
   "source": [
    "# Implement Greedy search algorithm for Single-Source Shortest\n",
    "# Path Problem."
   ]
  },
  {
   "cell_type": "code",
   "execution_count": 1,
   "id": "faed2cf3",
   "metadata": {},
   "outputs": [
    {
     "name": "stdout",
     "output_type": "stream",
     "text": [
      "Enter the number of vertices: 5\n",
      "Enter the number of edges: 7\n",
      "Enter the edge data in the format <from> <to> <weight>: \n",
      "0 1 4\n",
      "Enter the edge data in the format <from> <to> <weight>: \n",
      "0 2 2\n",
      "Enter the edge data in the format <from> <to> <weight>: \n",
      "1 3 1\n",
      "Enter the edge data in the format <from> <to> <weight>: \n",
      "1 4 5\n",
      "Enter the edge data in the format <from> <to> <weight>: \n",
      "2 1 1\n",
      "Enter the edge data in the format <from> <to> <weight>: \n",
      "2 3 3\n",
      "Enter the edge data in the format <from> <to> <weight>: \n",
      "3 4 1\n",
      "Enter the source vertex: 0\n",
      "Vertex \t Distance from Source\n",
      "0 \t\t 0\n",
      "1 \t\t 3\n",
      "2 \t\t 2\n",
      "3 \t\t 4\n",
      "4 \t\t 5\n"
     ]
    }
   ],
   "source": [
    "#single source shortest\n",
    "import sys\n",
    "\n",
    "# Function to find the vertex with the minimum distance value\n",
    "def minDistance(dist, visited):\n",
    "    min_dist = sys.maxsize\n",
    "    min_index = -1\n",
    "    for v in range(len(dist)):\n",
    "        if dist[v] < min_dist and not visited[v]:\n",
    "            min_dist = dist[v]\n",
    "            min_index = v\n",
    "    return min_index\n",
    "\n",
    "# Function to print the shortest distance from the source to all vertices\n",
    "def printDistances(dist):\n",
    "    print(\"Vertex \\t Distance from Source\")\n",
    "    for i in range(len(dist)):\n",
    "        print(i, \"\\t\\t\", dist[i])\n",
    "\n",
    "# Function to implement the greedy search algorithm\n",
    "def greedySearch(graph, source):\n",
    "    num_vertices = len(graph)\n",
    "    dist = [sys.maxsize] * num_vertices\n",
    "    visited = [False] * num_vertices\n",
    "    dist[source] = 0\n",
    "    \n",
    "    for i in range(num_vertices):\n",
    "        # Find the vertex with the minimum distance value\n",
    "        u = minDistance(dist, visited)\n",
    "        visited[u] = True\n",
    "        \n",
    "        # Update the distance values of the adjacent vertices\n",
    "        for v in range(num_vertices):\n",
    "            if graph[u][v] > 0 and not visited[v] and dist[v] > dist[u] + graph[u][v]:\n",
    "                dist[v] = dist[u] + graph[u][v]\n",
    "    \n",
    "    printDistances(dist)\n",
    "\n",
    "# Main program\n",
    "if __name__ == '__main__':\n",
    "    # Get the number of vertices and edges\n",
    "    num_vertices = int(input(\"Enter the number of vertices: \"))\n",
    "    num_edges = int(input(\"Enter the number of edges: \"))\n",
    "\n",
    "    # Create the adjacency matrix\n",
    "    graph = [[0] * num_vertices for _ in range(num_vertices)]\n",
    "    \n",
    "    # Get the graph data\n",
    "    for i in range(num_edges):\n",
    "        print(\"Enter the edge data in the format <from> <to> <weight>: \")\n",
    "        u, v, w = map(int, input().split())\n",
    "        graph[u][v] = w\n",
    "    \n",
    "    # Get the source vertex\n",
    "    source = int(input(\"Enter the source vertex: \"))\n",
    "    \n",
    "    # Find the shortest distances from the source vertex to all other vertices\n",
    "    greedySearch(graph, source)\n"
   ]
  },
  {
   "cell_type": "code",
   "execution_count": null,
   "id": "368ad1f3",
   "metadata": {},
   "outputs": [],
   "source": []
  }
 ],
 "metadata": {
  "kernelspec": {
   "display_name": "Python 3 (ipykernel)",
   "language": "python",
   "name": "python3"
  },
  "language_info": {
   "codemirror_mode": {
    "name": "ipython",
    "version": 3
   },
   "file_extension": ".py",
   "mimetype": "text/x-python",
   "name": "python",
   "nbconvert_exporter": "python",
   "pygments_lexer": "ipython3",
   "version": "3.10.9"
  }
 },
 "nbformat": 4,
 "nbformat_minor": 5
}
