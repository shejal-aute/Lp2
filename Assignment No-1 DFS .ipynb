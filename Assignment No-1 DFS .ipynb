{
 "cells": [
  {
   "cell_type": "code",
   "execution_count": null,
   "id": "7c69941c",
   "metadata": {},
   "outputs": [],
   "source": [
    "# Implement depth first search algorithm. Use an undirected graph\n",
    "# and develop a recursive algorithm for searching all the vertices of a\n",
    "# graph or tree data structure."
   ]
  },
  {
   "cell_type": "code",
   "execution_count": 1,
   "id": "45e59640",
   "metadata": {},
   "outputs": [
    {
     "name": "stdout",
     "output_type": "stream",
     "text": [
      "Depth-First Traversal (starting from vertex 1):\n",
      "1 2 4 5 3 6 7 "
     ]
    }
   ],
   "source": [
    "class Graph:\n",
    "    def __init__(self):\n",
    "        self.graph = {}\n",
    "    \n",
    "    def add_edge(self, u, v):\n",
    "        if u not in self.graph:\n",
    "            self.graph[u] = []\n",
    "        if v not in self.graph:\n",
    "            self.graph[v] = []\n",
    "        self.graph[u].append(v)\n",
    "        self.graph[v].append(u)\n",
    "    \n",
    "    def dfs(self, start_vertex, visited=None):\n",
    "        if visited is None:\n",
    "            visited = set()\n",
    "        visited.add(start_vertex)\n",
    "        print(start_vertex, end=\" \")  # Print the current vertex\n",
    "        \n",
    "        for neighbor in self.graph[start_vertex]:\n",
    "            if neighbor not in visited:\n",
    "                self.dfs(neighbor, visited)\n",
    "\n",
    "# Example usage\n",
    "g = Graph()\n",
    "g.add_edge(1, 2)\n",
    "g.add_edge(1, 3)\n",
    "g.add_edge(2, 4)\n",
    "g.add_edge(2, 5)\n",
    "g.add_edge(3, 6)\n",
    "g.add_edge(3, 7)\n",
    "\n",
    "print(\"Depth-First Traversal (starting from vertex 1):\")\n",
    "g.dfs(1)\n"
   ]
  },
  {
   "cell_type": "code",
   "execution_count": null,
   "id": "9d3db827",
   "metadata": {},
   "outputs": [],
   "source": []
  }
 ],
 "metadata": {
  "kernelspec": {
   "display_name": "Python 3 (ipykernel)",
   "language": "python",
   "name": "python3"
  },
  "language_info": {
   "codemirror_mode": {
    "name": "ipython",
    "version": 3
   },
   "file_extension": ".py",
   "mimetype": "text/x-python",
   "name": "python",
   "nbconvert_exporter": "python",
   "pygments_lexer": "ipython3",
   "version": "3.10.9"
  }
 },
 "nbformat": 4,
 "nbformat_minor": 5
}
