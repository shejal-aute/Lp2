{
 "cells": [
  {
   "cell_type": "code",
   "execution_count": null,
   "id": "1dc040ba",
   "metadata": {},
   "outputs": [],
   "source": [
    "#4. Implement Greedy search algorithm for Minimum Spanning Tree."
   ]
  },
  {
   "cell_type": "code",
   "execution_count": 1,
   "id": "bc2e1637",
   "metadata": {},
   "outputs": [
    {
     "name": "stdout",
     "output_type": "stream",
     "text": [
      "Enter the vertices of the graph (separated by space): A B C D\n",
      "Enter an edge (format: vertex1 vertex2 weight), or 'done' if all edges have been entered: A B 2\n",
      "Enter an edge (format: vertex1 vertex2 weight), or 'done' if all edges have been entered: B C 3\n",
      "Enter an edge (format: vertex1 vertex2 weight), or 'done' if all edges have been entered: C D 1\n",
      "Enter an edge (format: vertex1 vertex2 weight), or 'done' if all edges have been entered: A D 4\n",
      "Enter an edge (format: vertex1 vertex2 weight), or 'done' if all edges have been entered: done\n",
      "Minimum Spanning Tree:\n",
      "C - D : weight = 1\n",
      "A - B : weight = 2\n",
      "B - C : weight = 3\n"
     ]
    }
   ],
   "source": [
    "# Implementation of Kruskal's Algorithm using a Greedy approach\n",
    "\n",
    "# Function to find the parent of a node\n",
    "def find_parent(parent, node):\n",
    "    if parent[node] == node:\n",
    "        return node\n",
    "    return find_parent(parent, parent[node])\n",
    "\n",
    "# Function to perform union of two sets\n",
    "def union(parent, rank, set1, set2):\n",
    "    parent1 = find_parent(parent, set1)\n",
    "    parent2 = find_parent(parent, set2)\n",
    "\n",
    "    if rank[parent1] < rank[parent2]:\n",
    "        parent[parent1] = parent2\n",
    "    elif rank[parent1] > rank[parent2]:\n",
    "        parent[parent2] = parent1\n",
    "    else:\n",
    "        parent[parent1] = parent2\n",
    "        rank[parent2] += 1\n",
    "\n",
    "# Function to perform Kruskal's Algorithm\n",
    "def kruskals_algorithm(edges, vertices):\n",
    "    minimum_spanning_tree = []\n",
    "    parent = {}\n",
    "    rank = {}\n",
    "\n",
    "    # Initialize each vertex as its own parent and set rank as 0\n",
    "    for vertex in vertices:\n",
    "        parent[vertex] = vertex\n",
    "        rank[vertex] = 0\n",
    "\n",
    "    # Sort edges by weight in ascending order\n",
    "    edges = sorted(edges, key=lambda x: x[2])\n",
    "\n",
    "    # Loop through each edge in ascending order of weight\n",
    "    for edge in edges:\n",
    "        vertex1, vertex2, weight = edge\n",
    "\n",
    "        # Check if adding this edge will create a cycle\n",
    "        if find_parent(parent, vertex1) != find_parent(parent, vertex2):\n",
    "            minimum_spanning_tree.append(edge)\n",
    "            union(parent, rank, vertex1, vertex2)\n",
    "\n",
    "    return minimum_spanning_tree\n",
    "\n",
    "# User input\n",
    "vertices = input(\"Enter the vertices of the graph (separated by space): \").split()\n",
    "edges = []\n",
    "\n",
    "while True:\n",
    "    edge = input(\"Enter an edge (format: vertex1 vertex2 weight), or 'done' if all edges have been entered: \")\n",
    "    if edge == 'done':\n",
    "        break\n",
    "    else:\n",
    "        edge = edge.split()\n",
    "        edges.append((edge[0], edge[1], int(edge[2])))\n",
    "\n",
    "# Call Kruskal's Algorithm to find the Minimum Spanning Tree\n",
    "minimum_spanning_tree = kruskals_algorithm(edges, vertices)\n",
    "\n",
    "# Print the Minimum Spanning Tree\n",
    "print(\"Minimum Spanning Tree:\")\n",
    "for edge in minimum_spanning_tree:\n",
    "    print(edge[0], \"-\", edge[1], \": weight =\", edge[2])\n"
   ]
  },
  {
   "cell_type": "code",
   "execution_count": null,
   "id": "e2e2bada",
   "metadata": {},
   "outputs": [],
   "source": []
  }
 ],
 "metadata": {
  "kernelspec": {
   "display_name": "Python 3 (ipykernel)",
   "language": "python",
   "name": "python3"
  },
  "language_info": {
   "codemirror_mode": {
    "name": "ipython",
    "version": 3
   },
   "file_extension": ".py",
   "mimetype": "text/x-python",
   "name": "python",
   "nbconvert_exporter": "python",
   "pygments_lexer": "ipython3",
   "version": "3.10.9"
  }
 },
 "nbformat": 4,
 "nbformat_minor": 5
}
